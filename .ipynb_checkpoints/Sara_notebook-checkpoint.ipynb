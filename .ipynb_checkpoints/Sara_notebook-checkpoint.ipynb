{
 "cells": [
  {
   "cell_type": "code",
   "execution_count": 1,
   "id": "9f4505bb",
   "metadata": {},
   "outputs": [],
   "source": [
    "# Lage plot for stasjon M"
   ]
  },
  {
   "cell_type": "code",
   "execution_count": 4,
   "id": "924016d2",
   "metadata": {},
   "outputs": [],
   "source": [
    "# Importerer moduler:\n",
    "\n",
    "import matplotlib.pyplot as plt\n",
    "import numpy as np\n",
    "import xarray as xr"
   ]
  },
  {
   "cell_type": "code",
   "execution_count": 5,
   "id": "4187acda",
   "metadata": {},
   "outputs": [],
   "source": [
    "deployment1 = '/lustre/storeB/project/fou/hi/projects/NorEmso/Observations/moorings/StationM/Deployment1/StationM_2021_hydrography.nc'\n",
    "deployment2 = 0\n",
    "deployment3 = 0"
   ]
  },
  {
   "cell_type": "code",
   "execution_count": 7,
   "id": "09a6cfeb",
   "metadata": {},
   "outputs": [],
   "source": [
    "d1 = xr.open_dataset(deployment1)"
   ]
  },
  {
   "cell_type": "code",
   "execution_count": null,
   "id": "9562d60a",
   "metadata": {},
   "outputs": [],
   "source": []
  }
 ],
 "metadata": {
  "kernelspec": {
   "display_name": "Python 3 (ipykernel)",
   "language": "python",
   "name": "python3"
  },
  "language_info": {
   "codemirror_mode": {
    "name": "ipython",
    "version": 3
   },
   "file_extension": ".py",
   "mimetype": "text/x-python",
   "name": "python",
   "nbconvert_exporter": "python",
   "pygments_lexer": "ipython3",
   "version": "3.9.13"
  }
 },
 "nbformat": 4,
 "nbformat_minor": 5
}
