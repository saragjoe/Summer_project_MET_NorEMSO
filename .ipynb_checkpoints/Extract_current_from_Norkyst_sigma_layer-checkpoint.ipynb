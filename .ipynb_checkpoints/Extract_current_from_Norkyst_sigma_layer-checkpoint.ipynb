{
 "cells": [
  {
   "cell_type": "code",
   "execution_count": 10,
   "id": "b5a80f9e",
   "metadata": {},
   "outputs": [],
   "source": [
    "import xarray as xr\n",
    "import numpy as np \n",
    "import datetime\n",
    "import pyresample \n",
    "import metpy\n",
    "import pandas as pd\n",
    "import matplotlib.pyplot as plt\n",
    "import os, glob\n",
    "\n",
    "def get_XYpositions(filename, lons, lats):\n",
    "    \n",
    "    fh = xr.open_dataset(filename)\n",
    "    x   = np.linspace(0, fh.lat_rho.values.shape[1]-1, fh.lat_rho.values.shape[1])\n",
    "    y   = np.linspace(0, fh.lat_rho.values.shape[0]-1, fh.lat_rho.values.shape[0])\n",
    "    xi  = np.zeros_like(fh.lon_rho.values)\n",
    "    yi  = np.zeros([fh.lon_rho.values.shape[1], fh.lon_rho.values.shape[0]])\n",
    "    xi[:,:] = x\n",
    "    yi[:,:] = y\n",
    "    yi  = np.swapaxes(yi, 1, 0)\n",
    "\n",
    "    # First I define the wet points of the field as the lon,lat values with mask_rho==1 \n",
    "    sea_def = pyresample.geometry.SwathDefinition(lons= fh.lon_rho.values[np.where(fh.mask_rho)], lats = fh.lat_rho.values[np.where(fh.mask_rho)])\n",
    "\n",
    "    # Second, the full grid definiton (our target domain):\n",
    "    orig_def = pyresample.geometry.SwathDefinition(lons=lons, lats=lats)\n",
    "\n",
    "    # Then I fill the temperature field by the nearest neighbour approace.\n",
    "    # Note that only wet points are used as input. \n",
    "\n",
    "    # The radius of influence sets a limit (in meters) for how far away a true value can be from the point that will be filled\n",
    "\n",
    "    ypos = pyresample.kd_tree.resample_nearest(sea_def, yi[np.where(fh.mask_rho)], \\\n",
    "                               orig_def, radius_of_influence=2400)\n",
    "\n",
    "    xpos = pyresample.kd_tree.resample_nearest(sea_def, xi[np.where(fh.mask_rho)], \\\n",
    "                               orig_def, radius_of_influence=2400)\n",
    "    return np.array([int(x) for x in xpos]), np.array([int(y) for y in ypos])\n"
   ]
  },
  {
   "cell_type": "code",
   "execution_count": 11,
   "id": "6e7ed98b",
   "metadata": {},
   "outputs": [],
   "source": [
    "\n",
    "locations = {'Ekofisk': {'lat': 56 + 32/60, 'lon': 3 + 12/60}}\n",
    "dtg = datetime.datetime.now() - datetime.timedelta(days =0 )\n",
    "\n",
    "# Generic Filename:\n",
    "path = 'https://thredds.met.no/thredds/dodsC/sea_norshelf_files/{}/norshelf_qck_an_{}T00Z.nc'\n",
    "\n",
    "# Calculate  X, Y positions in the dictionary \"locations\": \n",
    "\n",
    "gridfile = '/lustre/storeB/project/fou/hi/oper/norshelf/static_inputfiles/norshelf_2.4_vert_grd.nc'\n",
    "for loc, coord in locations.items():\n",
    "    locations[loc]['X'], locations[loc]['Y'] = get_XYpositions(gridfile, np.array([coord['lon']]), np.array([coord['lat']])) \n",
    "  \n"
   ]
  },
  {
   "cell_type": "code",
   "execution_count": 12,
   "id": "2476b6eb",
   "metadata": {},
   "outputs": [
    {
     "ename": "ModuleNotFoundError",
     "evalue": "No module named 'xroms'",
     "output_type": "error",
     "traceback": [
      "\u001b[0;31m---------------------------------------------------------------------------\u001b[0m",
      "\u001b[0;31mModuleNotFoundError\u001b[0m                       Traceback (most recent call last)",
      "Cell \u001b[0;32mIn [12], line 1\u001b[0m\n\u001b[0;32m----> 1\u001b[0m \u001b[38;5;28;01mimport\u001b[39;00m \u001b[38;5;21;01mxroms\u001b[39;00m \n\u001b[1;32m      2\u001b[0m \u001b[38;5;66;03m# To get the depth of the sigma layers, the package xroms can be helpful\u001b[39;00m\n\u001b[1;32m      3\u001b[0m ds \u001b[38;5;241m=\u001b[39m xr\u001b[38;5;241m.\u001b[39mopen_dataset(gridfile)\n",
      "\u001b[0;31mModuleNotFoundError\u001b[0m: No module named 'xroms'"
     ]
    }
   ],
   "source": [
    "import xroms \n",
    "# To get the depth of the sigma layers, the package xroms can be helpful\n",
    "ds = xr.open_dataset(gridfile)\n",
    "ds.zeta.values[:] = 0 # s-layers are slighty displaced in the vertical with movements in the free-surface. Set free surface (zeta) to zero to get the vertical coordinate with respect to no displacement of the free surface. \n",
    "\n",
    "# Get vertical information: \n",
    "ds, xgrid = xroms.roms_dataset(ds, include_3D_metrics= False)\n",
    "ds = ds.isel(xi_rho = locations[loc]['X'], eta_rho = locations[loc]['Y']  )\n",
    "for s in range(ds.s_rho.size):\n",
    "    print('Depth of layer {}: {} meters'.format(s, np.round(ds.z_rho.values.ravel()[s], 1)))"
   ]
  },
  {
   "cell_type": "code",
   "execution_count": null,
   "id": "23f1a9ed",
   "metadata": {},
   "outputs": [],
   "source": [
    "dtg_start = datetime.datetime(2024, 6,1 ) \n",
    "dtg_stop  = datetime.datetime.now()\n",
    "\n",
    "loc = 'Ekofisk'\n",
    "df = pd.DataFrame({'SITE': [] , 'LAT': [], 'LONG': [], 'TIME': [] , 'PROG': [], 'CD[deg]': [], 'CV[m/s]': [] ,'TEMP[degC]' :[]})\n",
    " \n",
    "# Loop over the days to extract data for\n",
    "while dtg_start <= dtg_stop:\n",
    "\n",
    "    # Correct file name for the current day:\n",
    "    workonfile = path.format( dtg_start.strftime('%Y/%m'),  dtg_start.strftime('%Y%m%d'))\n",
    "    \n",
    "    print('Working on {}, {}'.format(dtg_start, workonfile))\n",
    "\n",
    "    # Open for read. Do within try/except as some files may be missing due to interruptions in the operational service.\n",
    "    try:\n",
    "        with xr.open_dataset(workonfile) as ds:\n",
    "            # Selcect current variables: \n",
    "            ds = ds.get(['u_eastward', 'v_northward', 'temp'])\n",
    "            # Choose the vertical layer closest to the bottom:\n",
    "            ds = ds.isel(s_rho = 1 )\n",
    "            # Choose your selectet x,y locations \n",
    "            tmp = ds.isel(xi_rho = locations[loc]['X'], eta_rho = locations[loc]['Y'])\n",
    "\n",
    "            # Calculate speed/direction:\n",
    "            cspd = np.squeeze(metpy.calc.wind_speed(tmp.u_eastward.values*metpy.units.units('m/s') , tmp.v_northward*metpy.units.units('m/s')))\n",
    "            cdir = np.squeeze(metpy.calc.wind_direction(tmp.u_eastward.values*metpy.units.units('m/s') , tmp.v_northward*metpy.units.units('m/s'), convention = 'to'))\n",
    "\n",
    "            # Store information in a pandas dataframe:\n",
    "            df = pd.concat([df, pd.DataFrame({'SITE': [loc]*len(cspd) , 'LAT': [np.round(coord['lat'],3)] *len(cspd), 'LONG': [np.round(coord['lon'],3)] *len(cspd), 'TIME': [dtg_start.strftime('%Y-%m-%dT00:00:00Z')]*len(cspd) , 'PROG': [t.replace('T', ' ') + ' UTC' for t in np.datetime_as_string(tmp.ocean_time, unit = 's')], 'CD[deg]':np.round(cdir,1), 'CV[m/s]': np.round(cspd,5), 'TEMP[degC]': np.round(tmp.temp.values.squeeze(), 5)  })])\n",
    "\n",
    "    except:\n",
    "        pass\n",
    "    # Update dtg_start to ensure that next iteration of while loop  processes data for the next day\n",
    "    dtg_start += datetime.timedelta(days = 1)\n",
    "df.to_csv('{}.csv'.format(loc), header = 'SITE,LAT,LONG,TIME,PROG,CD[deg],CV[m/s],TEMP[degC]' , mode = 'a', index = False)\n",
    "  "
   ]
  },
  {
   "cell_type": "code",
   "execution_count": null,
   "id": "fb160ddc",
   "metadata": {},
   "outputs": [],
   "source": [
    "df_lowest = df.copy()"
   ]
  },
  {
   "cell_type": "code",
   "execution_count": null,
   "id": "2f55e0f9",
   "metadata": {},
   "outputs": [],
   "source": [
    "df.head(48)"
   ]
  },
  {
   "cell_type": "code",
   "execution_count": null,
   "id": "296995e1",
   "metadata": {},
   "outputs": [],
   "source": [
    "# Du kan se innholdet i dataframe slik: \n",
    "df.head(20) # hvor tallet indikerer hvor mange linjer du skal se på:\n"
   ]
  },
  {
   "cell_type": "code",
   "execution_count": null,
   "id": "ef03c84c",
   "metadata": {},
   "outputs": [],
   "source": [
    "\n",
    "plt.plot(df_lowest.PROG, df_lowest['CV[m/s]'])\n",
    "plt.xticks(df_lowest.PROG[0::24*15]);\n",
    "plt.plot(df.PROG, df['CV[m/s]'])\n",
    "plt.xticks(df.PROG[0::24*15]);"
   ]
  },
  {
   "cell_type": "code",
   "execution_count": null,
   "id": "7e9f5409",
   "metadata": {},
   "outputs": [],
   "source": [
    "\n",
    "plt.plot(df_lowest.PROG, df['CV[m/s]'])\n",
    "plt.xticks(df_lowest.PROG[0::24*15]);"
   ]
  },
  {
   "cell_type": "code",
   "execution_count": null,
   "id": "e682b11b",
   "metadata": {},
   "outputs": [],
   "source": [
    "plt.plot(df_lowest.PROG, df_lowest['CD[deg]'])\n",
    "plt.xticks(df_lowest.PROG[0::24*15]);\n",
    "plt.plot(df.PROG, df['CD[deg]'])\n",
    "plt.xticks(df.PROG[0::24*15]);"
   ]
  },
  {
   "cell_type": "code",
   "execution_count": null,
   "id": "6fc518ac",
   "metadata": {},
   "outputs": [],
   "source": [
    "import windrose  \n",
    "ax = windrose.WindroseAxes.from_ax()\n",
    "ax.bar(df['CD[deg]'], df['CV[m/s]'], opening=0.8, edgecolor='white', bins=np.arange(0, 0.3, 0.05))\n",
    "ax.set_legend()"
   ]
  },
  {
   "cell_type": "code",
   "execution_count": null,
   "id": "73d16222",
   "metadata": {},
   "outputs": [],
   "source": [
    "import sys"
   ]
  },
  {
   "cell_type": "code",
   "execution_count": null,
   "id": "1f02e090",
   "metadata": {},
   "outputs": [],
   "source": [
    "sys.version"
   ]
  },
  {
   "cell_type": "code",
   "execution_count": null,
   "id": "b4372b22",
   "metadata": {},
   "outputs": [],
   "source": []
  },
  {
   "cell_type": "code",
   "execution_count": null,
   "id": "c07a4901",
   "metadata": {},
   "outputs": [],
   "source": []
  }
 ],
 "metadata": {
  "kernelspec": {
   "display_name": "Python 3 (ipykernel)",
   "language": "python",
   "name": "python3"
  },
  "language_info": {
   "codemirror_mode": {
    "name": "ipython",
    "version": 3
   },
   "file_extension": ".py",
   "mimetype": "text/x-python",
   "name": "python",
   "nbconvert_exporter": "python",
   "pygments_lexer": "ipython3",
   "version": "3.9.13"
  }
 },
 "nbformat": 4,
 "nbformat_minor": 5
}
